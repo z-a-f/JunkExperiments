{
 "cells": [
  {
   "cell_type": "code",
   "execution_count": 82,
   "metadata": {},
   "outputs": [],
   "source": [
    "%matplotlib inline\n",
    "\n",
    "import matplotlib.pyplot as plt\n",
    "import numpy as np"
   ]
  },
  {
   "cell_type": "code",
   "execution_count": 8,
   "metadata": {},
   "outputs": [],
   "source": [
    "import torch\n",
    "from torch import nn\n",
    "from torch.nn import functional as F"
   ]
  },
  {
   "cell_type": "code",
   "execution_count": 11,
   "metadata": {},
   "outputs": [
    {
     "ename": "RuntimeError",
     "evalue": "Halving dimension must be even, but dimension 0 is size 201",
     "output_type": "error",
     "traceback": [
      "\u001b[0;31m---------------------------------------------------------------------------\u001b[0m",
      "\u001b[0;31mRuntimeError\u001b[0m                              Traceback (most recent call last)",
      "\u001b[0;32m<ipython-input-11-921dd8e4ed8e>\u001b[0m in \u001b[0;36m<module>\u001b[0;34m\u001b[0m\n\u001b[1;32m      1\u001b[0m \u001b[0mx\u001b[0m \u001b[0;34m=\u001b[0m \u001b[0mtorch\u001b[0m\u001b[0;34m.\u001b[0m\u001b[0marange\u001b[0m\u001b[0;34m(\u001b[0m\u001b[0;34m-\u001b[0m\u001b[0;36m10\u001b[0m\u001b[0;34m,\u001b[0m \u001b[0;36m10.1\u001b[0m\u001b[0;34m,\u001b[0m \u001b[0;36m0.1\u001b[0m\u001b[0;34m)\u001b[0m\u001b[0;34m\u001b[0m\u001b[0;34m\u001b[0m\u001b[0m\n\u001b[0;32m----> 2\u001b[0;31m \u001b[0my\u001b[0m \u001b[0;34m=\u001b[0m \u001b[0mF\u001b[0m\u001b[0;34m.\u001b[0m\u001b[0mglu\u001b[0m\u001b[0;34m(\u001b[0m\u001b[0mx\u001b[0m\u001b[0;34m)\u001b[0m\u001b[0;34m\u001b[0m\u001b[0;34m\u001b[0m\u001b[0m\n\u001b[0m\u001b[1;32m      3\u001b[0m \u001b[0;34m\u001b[0m\u001b[0m\n\u001b[1;32m      4\u001b[0m \u001b[0mx\u001b[0m\u001b[0;34m.\u001b[0m\u001b[0mshape\u001b[0m\u001b[0;34m,\u001b[0m \u001b[0my\u001b[0m\u001b[0;34m.\u001b[0m\u001b[0mshape\u001b[0m\u001b[0;34m\u001b[0m\u001b[0;34m\u001b[0m\u001b[0m\n",
      "\u001b[0;32m~/miniconda3/envs/py37-ml/lib/python3.7/site-packages/torch/nn/functional.py\u001b[0m in \u001b[0;36mglu\u001b[0;34m(input, dim)\u001b[0m\n\u001b[1;32m   1096\u001b[0m     \u001b[0;32mif\u001b[0m \u001b[0minput\u001b[0m\u001b[0;34m.\u001b[0m\u001b[0mdim\u001b[0m\u001b[0;34m(\u001b[0m\u001b[0;34m)\u001b[0m \u001b[0;34m==\u001b[0m \u001b[0;36m0\u001b[0m\u001b[0;34m:\u001b[0m\u001b[0;34m\u001b[0m\u001b[0;34m\u001b[0m\u001b[0m\n\u001b[1;32m   1097\u001b[0m         \u001b[0;32mraise\u001b[0m \u001b[0mRuntimeError\u001b[0m\u001b[0;34m(\u001b[0m\u001b[0;34m\"glu does not suppport scalars because halving size must be even\"\u001b[0m\u001b[0;34m)\u001b[0m\u001b[0;34m\u001b[0m\u001b[0;34m\u001b[0m\u001b[0m\n\u001b[0;32m-> 1098\u001b[0;31m     \u001b[0;32mreturn\u001b[0m \u001b[0mtorch\u001b[0m\u001b[0;34m.\u001b[0m\u001b[0m_C\u001b[0m\u001b[0;34m.\u001b[0m\u001b[0m_nn\u001b[0m\u001b[0;34m.\u001b[0m\u001b[0mglu\u001b[0m\u001b[0;34m(\u001b[0m\u001b[0minput\u001b[0m\u001b[0;34m,\u001b[0m \u001b[0mdim\u001b[0m\u001b[0;34m)\u001b[0m\u001b[0;34m\u001b[0m\u001b[0;34m\u001b[0m\u001b[0m\n\u001b[0m\u001b[1;32m   1099\u001b[0m \u001b[0;34m\u001b[0m\u001b[0m\n\u001b[1;32m   1100\u001b[0m \u001b[0;34m\u001b[0m\u001b[0m\n",
      "\u001b[0;31mRuntimeError\u001b[0m: Halving dimension must be even, but dimension 0 is size 201"
     ]
    }
   ],
   "source": [
    "from functools import reduce\n",
    "\n",
    "shape = (2, 3, 4, 5)\n",
    "length = \n",
    "halving_dim = 0\n",
    "\n",
    "x = torch.arange(0, )\n",
    "y = F.glu(x)\n",
    "\n",
    "x.shape, y.shape"
   ]
  },
  {
   "cell_type": "code",
   "execution_count": 71,
   "metadata": {},
   "outputs": [],
   "source": [
    "def qparams(x, dtype=torch.qint8):\n",
    "    fmin = min(x.min(), 0)\n",
    "    fmax = max(x.max(), 0)\n",
    "    \n",
    "    iinfo = torch.iinfo(dtype)\n",
    "    qmin = iinfo.min\n",
    "    qmax = iinfo.max\n",
    "    \n",
    "    s = (fmax - fmin) / (qmax - qmin)\n",
    "    z = (qmin - fmin / s).round().clamp(qmin, qmax).to(torch.int)\n",
    "    return s.item(), z.item(), dtype\n",
    "\n",
    "def quantize(x, params=None):\n",
    "    if params is None:\n",
    "        params = qparams(x, torch.qint8)\n",
    "    sc, zp, dtype = params\n",
    "    iinfo = torch.iinfo(dtype)\n",
    "    qmin = iinfo.min\n",
    "    qmax = iinfo.max\n",
    "\n",
    "    qx = (x / sc + zp).round().clamp(qmin, qmax).to(torch.int)\n",
    "    return qx\n",
    "\n",
    "def dequantize(qx, params):\n",
    "    s, zp, dtype = params\n",
    "    return (qx - zp) * s\n",
    "\n",
    "def sigmoid(x):\n",
    "    return 1 / (1 + (-x).exp())"
   ]
  },
  {
   "cell_type": "code",
   "execution_count": 99,
   "metadata": {},
   "outputs": [
    {
     "name": "stdout",
     "output_type": "stream",
     "text": [
      "(0.00392156862745098, 0, torch.quint8)\n",
      "tensor([  0,   0,   0,   0,   0,   0,   0,   0,   1,   1,   2,   3,   5,   7,\n",
      "         12,  19,  30,  47,  69,  96, 127, 159, 186, 208, 225, 236, 243, 248,\n",
      "        250, 252, 253, 254, 254, 255, 255, 255, 255, 255, 255, 255],\n",
      "       dtype=torch.int32)\n"
     ]
    }
   ],
   "source": [
    "x = torch.arange(-10, 10, 0.5).to(torch.float)\n",
    "y = sigmoid(x)\n",
    "\n",
    "# params = qparams(y, torch.quint8)\n",
    "# params = tuple([params[0], 0, params[2]])\n",
    "params = (0.00392156862745098, 0, torch.quint8)\n",
    "qy = quantize(y, params)\n",
    "dqy = dequantize(qy, params)\n",
    "\n",
    "print(params)\n",
    "print(qy)"
   ]
  },
  {
   "cell_type": "code",
   "execution_count": 117,
   "metadata": {},
   "outputs": [
    {
     "data": {
      "text/plain": [
       "[<matplotlib.lines.Line2D at 0x7f4793ce4b90>]"
      ]
     },
     "execution_count": 117,
     "metadata": {},
     "output_type": "execute_result"
    },
    {
     "data": {
      "image/png": "[encoded data removed]",
      "text/plain": [
       "<Figure size 640x480 with 1 Axes>"
      ]
     },
     "metadata": {},
     "output_type": "display_data"
    }
   ],
   "source": [
    "def qsigmoid(qx, qx_params):\n",
    "    qx_s, qx_zp, qx_dtype = qx_params\n",
    "    s, zp, dtype = (0.00392156862745098, 0, torch.quint8)\n",
    "    \n",
    "    e_s = np.exp(qx_s)\n",
    "    e_sz = e_s ** qx_zp\n",
    "    \n",
    "    s_inv = 1.0 / s\n",
    "    \n",
    "    return s_inv / (1.0 + e_sz * e_qx)\n",
    "\n",
    "qx_qparams = qparams(x, torch.qint8)\n",
    "qx = quantize(x, qx_qparams)\n",
    "dqx = dequantize(qx, qx_qparams)\n",
    "\n",
    "y_ref = sigmoid(dqx)\n",
    "qy_ref = quantize(y_ref, (0.00392156862745098, 0, torch.quint8))\n",
    "qy = qsigmoid(qx, qx_qparams)\n",
    "\n",
    "\n",
    "\n",
    "plt.plot(qy - qy_ref)"
   ]
  },
  {
   "cell_type": "code",
   "execution_count": 107,
   "metadata": {},
   "outputs": [
    {
     "data": {
      "text/plain": [
       "5.537334267018537"
      ]
     },
     "execution_count": 107,
     "metadata": {},
     "output_type": "execute_result"
    }
   ],
   "source": [
    "np.log(1 / dequantize(1, params) - 1)"
   ]
  }
 ],
 "metadata": {
  "kernelspec": {
   "display_name": "Python 3",
   "language": "python",
   "name": "python3"
  },
  "language_info": {
   "codemirror_mode": {
    "name": "ipython",
    "version": 3
   },
   "file_extension": ".py",
   "mimetype": "text/x-python",
   "name": "python",
   "nbconvert_exporter": "python",
   "pygments_lexer": "ipython3",
   "version": "3.7.5"
  }
 },
 "nbformat": 4,
 "nbformat_minor": 4
}
