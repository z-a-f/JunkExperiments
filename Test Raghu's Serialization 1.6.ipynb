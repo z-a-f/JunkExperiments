{
 "cells": [
  {
   "cell_type": "code",
   "execution_count": 3,
   "metadata": {},
   "outputs": [
    {
     "name": "stdout",
     "output_type": "stream",
     "text": [
      "PyTorch version: 1.6.0a0+359ffb6\n",
      "PyTorch version: 0.6.0a0+35d732a\n",
      "mobilenet_v2  quantized\n"
     ]
    },
    {
     "name": "stderr",
     "output_type": "stream",
     "text": [
      "/home/zafar/Git/pytorch-dev/pytorch-adaptive-avgpool3d/torch/nn/quantized/modules/utils.py:10: UserWarning: 0quantize_tensor_per_tensor_affine current rounding mode is not set to round-to-nearest-ties-to-even (FE_TONEAREST). This will cause accuracy issues in quantized models. (Triggered internally at  /home/zafar/Git/pytorch-dev/pytorch-adaptive-avgpool3d/aten/src/ATen/native/quantized/affine_quantizer.cpp:25.)\n",
      "  float(wt_scale), int(wt_zp), torch.qint8)\n",
      "/home/zafar/Git/pytorch-dev/pytorch-adaptive-avgpool3d/torch/quantization/observer.py:144: UserWarning: must run observer before calling calculate_qparams.                                    Returning default scale and zero point \n",
      "  Returning default scale and zero point \"\n"
     ]
    }
   ],
   "source": [
    "import torch\n",
    "import torchvision\n",
    "\n",
    "from torch.utils.mobile_optimizer import optimize_for_mobile\n",
    "print(f'PyTorch version: {torch.version.__version__}')\n",
    "print(f'PyTorch version: {torchvision.version.__version__}')\n",
    "class ChannelsLastModel(torch.nn.Module):\n",
    "    def __init__(self, m):\n",
    "        super(ChannelsLastModel, self).__init__()\n",
    "        self.m = m\n",
    "    def forward(self, x):\n",
    "        return self.m(x.contiguous(memory_format=torch.channels_last))\n",
    "torch.backends.quantized.engine='qnnpack'\n",
    "for model_name in ['mobilenet_v2']:\n",
    "    print(model_name, \" quantized\")\n",
    "    m = torchvision.models.quantization.__dict__[model_name](pretrained=False, quantize=True)\n",
    "    #m.qconfig = torch.quantization.get_default_qconfig('qnnpack')\n",
    "    m.eval()\n",
    "    model = ChannelsLastModel(m)\n",
    "    model.eval()\n",
    "    script_model = torch.jit.script(model)\n",
    "    script_model_optimized = optimize_for_mobile(script_model)\n",
    "    torch.jit.save(script_model_optimized, model_name + \"_quant.pt\")"
   ]
  },
  {
   "cell_type": "code",
   "execution_count": 25,
   "metadata": {},
   "outputs": [
    {
     "data": {
      "text/plain": [
       "1"
      ]
     },
     "execution_count": 25,
     "metadata": {},
     "output_type": "execute_result"
    }
   ],
   "source": [
    "min([1,2,3])"
   ]
  },
  {
   "cell_type": "code",
   "execution_count": 99,
   "metadata": {},
   "outputs": [
    {
     "name": "stdout",
     "output_type": "stream",
     "text": [
      "[0.0, 20.0, 40.0, 60.0, 22, 31, 40]\n",
      "[0.0, 0.2, 0.4000000000000001, 0.6000000000000001, 0.8, 1.0000000000000002, 0.5, 0.75, 0.9]\n"
     ]
    },
    {
     "data": {
      "image/png": "[encoded data removed]",
      "text/plain": [
       "<Figure size 640x480 with 1 Axes>"
      ]
     },
     "metadata": {},
     "output_type": "display_data"
    }
   ],
   "source": [
    "%matplotlib inline\n",
    "import matplotlib.pyplot as plt\n",
    "import matplotlib.ticker as mtick\n",
    "\n",
    "def make_paradox_list(total_num_entries):\n",
    "    starting_num = total_num_entries\n",
    "    no_coincidence_ratio = 1.0\n",
    "    coincide_list = [1.0 - no_coincidence_ratio]\n",
    "    for idx in range(1, total_num_entries+1):\n",
    "        no_coincidence_ratio *= (total_num_entries - idx) / total_num_entries\n",
    "        coincidence_ratio = 1.0 - no_coincidence_ratio\n",
    "        coincide_list.append(coincidence_ratio)\n",
    "    return coincide_list\n",
    "\n",
    "def binary_search(lst, target, closest=False, round_to=None):\n",
    "    # Either return a single index or two indices if the result is in between\n",
    "    # If closest is set, return the closest index if the result is in between\n",
    "    # If round_to is set, it rounds the list element before comparing to target\n",
    "    start = 0\n",
    "    end = len(lst) - 1\n",
    "    round_fn = lambda x: x\n",
    "    if round_to is not None:\n",
    "        round_fn = lambda x: round(x, round_to)\n",
    "    \n",
    "    while end > start:\n",
    "        if target <= round_fn(lst[start]):\n",
    "            mid = start\n",
    "            break\n",
    "        if target >= round_fn(lst[end]):\n",
    "            mid = end\n",
    "            break\n",
    "        mid = (end + start) // 2\n",
    "        if target == round_fn(lst[mid]):\n",
    "            return mid\n",
    "        if target < round_fn(lst[mid]):\n",
    "            end = mid - 1\n",
    "        elif target > round_fn(lst[mid]):\n",
    "            start = mid + 1\n",
    "    pair = False\n",
    "    if mid > 0 and target < round_fn(lst[mid]):\n",
    "        mid = (mid - 1, mid)\n",
    "        pair = True\n",
    "    elif mid < (len(lst) - 1) and target > round_fn(lst[mid]):\n",
    "        pair = True\n",
    "        mid = (mid, mid + 1)\n",
    "    if closest and pair:\n",
    "        if abs(target - lst[mid[0]]) < abs(target - lst[mid[1]]):\n",
    "            return mid[0]\n",
    "        else:\n",
    "            return mid[1]\n",
    "    return mid\n",
    "\n",
    "def plot_paradox(point_list, cutoff=None, highlight_levels=[], ax=None):\n",
    "    if ax is None:\n",
    "        fig = plt.figure()\n",
    "        ax = plt.gca()\n",
    "    if cutoff is not None:\n",
    "        end = binary_search(point_list, cutoff, True, 6)\n",
    "        end = min(end+1, len(point_list))\n",
    "        point_list = point_list[:end]\n",
    "    x_range = range(1, len(point_list) + 1)\n",
    "    ax.plot(x_range, point_list)\n",
    "    extray = []\n",
    "    extrax = []\n",
    "    for lvl in highlight_levels:\n",
    "        # Search by value, there are guarantees that the array is sorted\n",
    "        if point_list[0] > lvl or point_list[-1] < lvl:\n",
    "            continue\n",
    "        x_closest = binary_search(point_list, lvl, True, 6)\n",
    "        extrax.append(x_closest)\n",
    "        extray.append(lvl)\n",
    "    xticks = list(ax.get_xticks())\n",
    "    yticks = list(ax.get_yticks())\n",
    "    if xticks[0] < min(x_range):\n",
    "        xticks = xticks[1:]\n",
    "    if xticks[-1] > max(x_range):\n",
    "        xticks = xticks[:-1]\n",
    "    if yticks[0] < min(point_list):\n",
    "        yticks = yticks[1:]\n",
    "    if yticks[-1] > max(point_list):\n",
    "        yticks = yticks[:-1]\n",
    "    xticks = xticks + extrax\n",
    "    yticks = yticks + extray\n",
    "    \n",
    "    print(xticks)\n",
    "    print(yticks)\n",
    "    \n",
    "    ax.set_xticks(xticks)\n",
    "    ax.set_yticks(yticks)\n",
    "    \n",
    "    ax.grid()\n",
    "    \n",
    "    ax.yaxis.set_major_formatter(mtick.PercentFormatter(1.0))\n",
    "    \n",
    "        \n",
    "\n",
    "bd_list = make_paradox_list(365)\n",
    "plot_paradox(bd_list, cutoff=0.999, highlight_levels=[0.5, 0.75, 0.9])\n",
    "\n",
    "\n",
    "# plt.plot(bd_list)\n",
    "# ax = plt.gca()\n",
    "# ax.yaxis.set_major_formatter(mtick.PercentFormatter(1.0))\n",
    "# ax.grid()\n",
    "\n",
    "# yticks = list(plt.yticks()[0])\n",
    "# if yticks[0] < min(bd_list):\n",
    "#     yticks = yticks[1:]\n",
    "# if yticks[-1] > max(bd_list):\n",
    "#     yticks = yticks[:-1]\n",
    "# yticks.append(0.5)\n",
    "# plt.yticks(yticks)\n",
    "\n",
    "# print(plt.yticks())"
   ]
  }
 ],
 "metadata": {
  "kernelspec": {
   "display_name": "Python 3",
   "language": "python",
   "name": "python3"
  },
  "language_info": {
   "codemirror_mode": {
    "name": "ipython",
    "version": 3
   },
   "file_extension": ".py",
   "mimetype": "text/x-python",
   "name": "python",
   "nbconvert_exporter": "python",
   "pygments_lexer": "ipython3",
   "version": "3.6.10"
  }
 },
 "nbformat": 4,
 "nbformat_minor": 4
}
