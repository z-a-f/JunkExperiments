{
 "cells": [
  {
   "cell_type": "code",
   "execution_count": 1,
   "metadata": {},
   "outputs": [],
   "source": [
    "import torch\n",
    "import torch.nn as nn\n",
    "from typing_extensions import Final\n",
    "from typing import Any, Tuple"
   ]
  },
  {
   "cell_type": "code",
   "execution_count": 2,
   "metadata": {},
   "outputs": [],
   "source": [
    "class Model(nn.Module):\n",
    "    def forward(self, x):\n",
    "        N, C, T, H, W = x.shape\n",
    "        value = x.view(N, 1, C, T * H * W)\n",
    "        return value\n",
    "    \n",
    "model = Model()\n",
    "data1 = torch.rand(2, 4, 8, 7, 7)\n",
    "data2 = torch.rand(2, 4, 8, 10, 10)"
   ]
  },
  {
   "cell_type": "code",
   "execution_count": 11,
   "metadata": {},
   "outputs": [
    {
     "name": "stdout",
     "output_type": "stream",
     "text": [
      "torch.Size([2, 1, 4, 392])\n",
      "torch.Size([2, 1, 4, 800])\n"
     ]
    }
   ],
   "source": [
    "traced_model = torch.jit.trace(model, [data1])\n",
    "print(traced_model(data1).shape)\n",
    "print(traced_model(data2).shape)"
   ]
  },
  {
   "cell_type": "code",
   "execution_count": 4,
   "metadata": {},
   "outputs": [],
   "source": [
    "def calibrate(model, data_loader):\n",
    "    with torch.no_grad():\n",
    "        for data in data_loader:\n",
    "            model(data)"
   ]
  },
  {
   "cell_type": "code",
   "execution_count": 6,
   "metadata": {},
   "outputs": [
    {
     "name": "stdout",
     "output_type": "stream",
     "text": [
      "torch.Size([2, 1, 4, 392])\n"
     ]
    },
    {
     "name": "stderr",
     "output_type": "stream",
     "text": [
      "/home/zafar/Git/pytorch-dev/pytorch/torch/quantization/observer.py:115: UserWarning: Please use quant_min and quant_max to specify the range for observers.                     reduce_range will be deprecated in a future release of PyTorch.\n",
      "  reduce_range will be deprecated in a future release of PyTorch.\"\n"
     ]
    },
    {
     "ename": "RuntimeError",
     "evalue": "The following operation failed in the TorchScript interpreter.\nTraceback of TorchScript (most recent call last):\n<ipython-input-2-35c37cdc7bdc>(4): forward\n/home/zafar/Git/pytorch-dev/pytorch/torch/nn/modules/module.py(709): _slow_forward\n/home/zafar/Git/pytorch-dev/pytorch/torch/nn/modules/module.py(725): _call_impl\n/home/zafar/Git/pytorch-dev/pytorch/torch/jit/_trace.py(953): trace_module\n/home/zafar/Git/pytorch-dev/pytorch/torch/jit/_trace.py(755): trace\n<ipython-input-3-273da0aec9fd>(1): <module>\n/home/zafar/miniconda3/envs/pytorch-dev/lib/python3.6/site-packages/IPython/core/interactiveshell.py(3343): run_code\n/home/zafar/miniconda3/envs/pytorch-dev/lib/python3.6/site-packages/IPython/core/interactiveshell.py(3263): run_ast_nodes\n/home/zafar/miniconda3/envs/pytorch-dev/lib/python3.6/site-packages/IPython/core/interactiveshell.py(3072): run_cell_async\n/home/zafar/miniconda3/envs/pytorch-dev/lib/python3.6/site-packages/IPython/core/async_helpers.py(68): _pseudo_sync_runner\n/home/zafar/miniconda3/envs/pytorch-dev/lib/python3.6/site-packages/IPython/core/interactiveshell.py(2895): _run_cell\n/home/zafar/miniconda3/envs/pytorch-dev/lib/python3.6/site-packages/IPython/core/interactiveshell.py(2867): run_cell\n/home/zafar/miniconda3/envs/pytorch-dev/lib/python3.6/site-packages/ipykernel/zmqshell.py(536): run_cell\n/home/zafar/miniconda3/envs/pytorch-dev/lib/python3.6/site-packages/ipykernel/ipkernel.py(306): do_execute\n/home/zafar/miniconda3/envs/pytorch-dev/lib/python3.6/site-packages/tornado/gen.py(209): wrapper\n/home/zafar/miniconda3/envs/pytorch-dev/lib/python3.6/site-packages/ipykernel/kernelbase.py(545): execute_request\n/home/zafar/miniconda3/envs/pytorch-dev/lib/python3.6/site-packages/tornado/gen.py(209): wrapper\n/home/zafar/miniconda3/envs/pytorch-dev/lib/python3.6/site-packages/ipykernel/kernelbase.py(268): dispatch_shell\n/home/zafar/miniconda3/envs/pytorch-dev/lib/python3.6/site-packages/tornado/gen.py(209): wrapper\n/home/zafar/miniconda3/envs/pytorch-dev/lib/python3.6/site-packages/ipykernel/kernelbase.py(365): process_one\n/home/zafar/miniconda3/envs/pytorch-dev/lib/python3.6/site-packages/tornado/gen.py(748): run\n/home/zafar/miniconda3/envs/pytorch-dev/lib/python3.6/site-packages/tornado/gen.py(787): inner\n/home/zafar/miniconda3/envs/pytorch-dev/lib/python3.6/site-packages/tornado/ioloop.py(743): _run_callback\n/home/zafar/miniconda3/envs/pytorch-dev/lib/python3.6/site-packages/tornado/ioloop.py(690): <lambda>\n/home/zafar/miniconda3/envs/pytorch-dev/lib/python3.6/asyncio/events.py(145): _run\n/home/zafar/miniconda3/envs/pytorch-dev/lib/python3.6/asyncio/base_events.py(1462): _run_once\n/home/zafar/miniconda3/envs/pytorch-dev/lib/python3.6/asyncio/base_events.py(442): run_forever\n/home/zafar/miniconda3/envs/pytorch-dev/lib/python3.6/site-packages/tornado/platform/asyncio.py(149): start\n/home/zafar/miniconda3/envs/pytorch-dev/lib/python3.6/site-packages/ipykernel/kernelapp.py(612): start\n/home/zafar/miniconda3/envs/pytorch-dev/lib/python3.6/site-packages/traitlets/config/application.py(664): launch_instance\n/home/zafar/miniconda3/envs/pytorch-dev/lib/python3.6/site-packages/ipykernel_launcher.py(16): <module>\n/home/zafar/miniconda3/envs/pytorch-dev/lib/python3.6/runpy.py(85): _run_code\n/home/zafar/miniconda3/envs/pytorch-dev/lib/python3.6/runpy.py(193): _run_module_as_main\nRuntimeError: shape '[2, 1, 4, 392]' is invalid for input of size 6400\n",
     "output_type": "error",
     "traceback": [
      "\u001b[0;31m---------------------------------------------------------------------------\u001b[0m",
      "\u001b[0;31mRuntimeError\u001b[0m                              Traceback (most recent call last)",
      "\u001b[0;32m<ipython-input-6-85ff2d99b292>\u001b[0m in \u001b[0;36m<module>\u001b[0;34m\u001b[0m\n\u001b[1;32m      7\u001b[0m \u001b[0;34m\u001b[0m\u001b[0m\n\u001b[1;32m      8\u001b[0m \u001b[0mprint\u001b[0m\u001b[0;34m(\u001b[0m\u001b[0mqmodel\u001b[0m\u001b[0;34m(\u001b[0m\u001b[0mdata1\u001b[0m\u001b[0;34m)\u001b[0m\u001b[0;34m.\u001b[0m\u001b[0mshape\u001b[0m\u001b[0;34m)\u001b[0m\u001b[0;34m\u001b[0m\u001b[0;34m\u001b[0m\u001b[0m\n\u001b[0;32m----> 9\u001b[0;31m \u001b[0mprint\u001b[0m\u001b[0;34m(\u001b[0m\u001b[0mqmodel\u001b[0m\u001b[0;34m(\u001b[0m\u001b[0mdata2\u001b[0m\u001b[0;34m)\u001b[0m\u001b[0;34m.\u001b[0m\u001b[0mshape\u001b[0m\u001b[0;34m)\u001b[0m\u001b[0;34m\u001b[0m\u001b[0;34m\u001b[0m\u001b[0m\n\u001b[0m",
      "\u001b[0;32m~/Git/pytorch-dev/pytorch/torch/nn/modules/module.py\u001b[0m in \u001b[0;36m_call_impl\u001b[0;34m(self, *input, **kwargs)\u001b[0m\n\u001b[1;32m    725\u001b[0m             \u001b[0mresult\u001b[0m \u001b[0;34m=\u001b[0m \u001b[0mself\u001b[0m\u001b[0;34m.\u001b[0m\u001b[0m_slow_forward\u001b[0m\u001b[0;34m(\u001b[0m\u001b[0;34m*\u001b[0m\u001b[0minput\u001b[0m\u001b[0;34m,\u001b[0m \u001b[0;34m**\u001b[0m\u001b[0mkwargs\u001b[0m\u001b[0;34m)\u001b[0m\u001b[0;34m\u001b[0m\u001b[0;34m\u001b[0m\u001b[0m\n\u001b[1;32m    726\u001b[0m         \u001b[0;32melse\u001b[0m\u001b[0;34m:\u001b[0m\u001b[0;34m\u001b[0m\u001b[0;34m\u001b[0m\u001b[0m\n\u001b[0;32m--> 727\u001b[0;31m             \u001b[0mresult\u001b[0m \u001b[0;34m=\u001b[0m \u001b[0mself\u001b[0m\u001b[0;34m.\u001b[0m\u001b[0mforward\u001b[0m\u001b[0;34m(\u001b[0m\u001b[0;34m*\u001b[0m\u001b[0minput\u001b[0m\u001b[0;34m,\u001b[0m \u001b[0;34m**\u001b[0m\u001b[0mkwargs\u001b[0m\u001b[0;34m)\u001b[0m\u001b[0;34m\u001b[0m\u001b[0;34m\u001b[0m\u001b[0m\n\u001b[0m\u001b[1;32m    728\u001b[0m         for hook in itertools.chain(\n\u001b[1;32m    729\u001b[0m                 \u001b[0m_global_forward_hooks\u001b[0m\u001b[0;34m.\u001b[0m\u001b[0mvalues\u001b[0m\u001b[0;34m(\u001b[0m\u001b[0;34m)\u001b[0m\u001b[0;34m,\u001b[0m\u001b[0;34m\u001b[0m\u001b[0;34m\u001b[0m\u001b[0m\n",
      "\u001b[0;31mRuntimeError\u001b[0m: The following operation failed in the TorchScript interpreter.\nTraceback of TorchScript (most recent call last):\n<ipython-input-2-35c37cdc7bdc>(4): forward\n/home/zafar/Git/pytorch-dev/pytorch/torch/nn/modules/module.py(709): _slow_forward\n/home/zafar/Git/pytorch-dev/pytorch/torch/nn/modules/module.py(725): _call_impl\n/home/zafar/Git/pytorch-dev/pytorch/torch/jit/_trace.py(953): trace_module\n/home/zafar/Git/pytorch-dev/pytorch/torch/jit/_trace.py(755): trace\n<ipython-input-3-273da0aec9fd>(1): <module>\n/home/zafar/miniconda3/envs/pytorch-dev/lib/python3.6/site-packages/IPython/core/interactiveshell.py(3343): run_code\n/home/zafar/miniconda3/envs/pytorch-dev/lib/python3.6/site-packages/IPython/core/interactiveshell.py(3263): run_ast_nodes\n/home/zafar/miniconda3/envs/pytorch-dev/lib/python3.6/site-packages/IPython/core/interactiveshell.py(3072): run_cell_async\n/home/zafar/miniconda3/envs/pytorch-dev/lib/python3.6/site-packages/IPython/core/async_helpers.py(68): _pseudo_sync_runner\n/home/zafar/miniconda3/envs/pytorch-dev/lib/python3.6/site-packages/IPython/core/interactiveshell.py(2895): _run_cell\n/home/zafar/miniconda3/envs/pytorch-dev/lib/python3.6/site-packages/IPython/core/interactiveshell.py(2867): run_cell\n/home/zafar/miniconda3/envs/pytorch-dev/lib/python3.6/site-packages/ipykernel/zmqshell.py(536): run_cell\n/home/zafar/miniconda3/envs/pytorch-dev/lib/python3.6/site-packages/ipykernel/ipkernel.py(306): do_execute\n/home/zafar/miniconda3/envs/pytorch-dev/lib/python3.6/site-packages/tornado/gen.py(209): wrapper\n/home/zafar/miniconda3/envs/pytorch-dev/lib/python3.6/site-packages/ipykernel/kernelbase.py(545): execute_request\n/home/zafar/miniconda3/envs/pytorch-dev/lib/python3.6/site-packages/tornado/gen.py(209): wrapper\n/home/zafar/miniconda3/envs/pytorch-dev/lib/python3.6/site-packages/ipykernel/kernelbase.py(268): dispatch_shell\n/home/zafar/miniconda3/envs/pytorch-dev/lib/python3.6/site-packages/tornado/gen.py(209): wrapper\n/home/zafar/miniconda3/envs/pytorch-dev/lib/python3.6/site-packages/ipykernel/kernelbase.py(365): process_one\n/home/zafar/miniconda3/envs/pytorch-dev/lib/python3.6/site-packages/tornado/gen.py(748): run\n/home/zafar/miniconda3/envs/pytorch-dev/lib/python3.6/site-packages/tornado/gen.py(787): inner\n/home/zafar/miniconda3/envs/pytorch-dev/lib/python3.6/site-packages/tornado/ioloop.py(743): _run_callback\n/home/zafar/miniconda3/envs/pytorch-dev/lib/python3.6/site-packages/tornado/ioloop.py(690): <lambda>\n/home/zafar/miniconda3/envs/pytorch-dev/lib/python3.6/asyncio/events.py(145): _run\n/home/zafar/miniconda3/envs/pytorch-dev/lib/python3.6/asyncio/base_events.py(1462): _run_once\n/home/zafar/miniconda3/envs/pytorch-dev/lib/python3.6/asyncio/base_events.py(442): run_forever\n/home/zafar/miniconda3/envs/pytorch-dev/lib/python3.6/site-packages/tornado/platform/asyncio.py(149): start\n/home/zafar/miniconda3/envs/pytorch-dev/lib/python3.6/site-packages/ipykernel/kernelapp.py(612): start\n/home/zafar/miniconda3/envs/pytorch-dev/lib/python3.6/site-packages/traitlets/config/application.py(664): launch_instance\n/home/zafar/miniconda3/envs/pytorch-dev/lib/python3.6/site-packages/ipykernel_launcher.py(16): <module>\n/home/zafar/miniconda3/envs/pytorch-dev/lib/python3.6/runpy.py(85): _run_code\n/home/zafar/miniconda3/envs/pytorch-dev/lib/python3.6/runpy.py(193): _run_module_as_main\nRuntimeError: shape '[2, 1, 4, 392]' is invalid for input of size 6400\n"
     ]
    }
   ],
   "source": [
    "qmodel = torch.quantization.quantize_jit(\n",
    "    traced_model,\n",
    "    {\"\": torch.quantization.default_qconfig},\n",
    "    calibrate,\n",
    "    [[data1]]\n",
    ")\n",
    "\n",
    "print(qmodel(data1).shape)\n",
    "print(qmodel(data2).shape)"
   ]
  },
  {
   "cell_type": "code",
   "execution_count": 12,
   "metadata": {},
   "outputs": [
    {
     "data": {
      "text/plain": [
       "graph(%self : __torch__.___torch_mangle_6.Model,\n",
       "      %x : Float(2:1568, 4:392, 8:49, 7:7, 7:1, requires_grad=0, device=cpu)):\n",
       "  %3 : int = prim::Constant[value=0]() # <ipython-input-2-35c37cdc7bdc>:3:0\n",
       "  %4 : int = aten::size(%x, %3) # <ipython-input-2-35c37cdc7bdc>:3:0\n",
       "  %N : Long(device=cpu) = prim::NumToTensor(%4)\n",
       "  %20 : int = aten::Int(%N)\n",
       "  %6 : int = prim::Constant[value=1]() # <ipython-input-2-35c37cdc7bdc>:3:0\n",
       "  %7 : int = aten::size(%x, %6) # <ipython-input-2-35c37cdc7bdc>:3:0\n",
       "  %C : Long(device=cpu) = prim::NumToTensor(%7)\n",
       "  %21 : int = aten::Int(%C)\n",
       "  %9 : int = prim::Constant[value=2]() # <ipython-input-2-35c37cdc7bdc>:3:0\n",
       "  %10 : int = aten::size(%x, %9) # <ipython-input-2-35c37cdc7bdc>:3:0\n",
       "  %T : Long(device=cpu) = prim::NumToTensor(%10)\n",
       "  %12 : int = prim::Constant[value=3]() # <ipython-input-2-35c37cdc7bdc>:3:0\n",
       "  %13 : int = aten::size(%x, %12) # <ipython-input-2-35c37cdc7bdc>:3:0\n",
       "  %H : Long(device=cpu) = prim::NumToTensor(%13)\n",
       "  %15 : int = prim::Constant[value=4]() # <ipython-input-2-35c37cdc7bdc>:3:0\n",
       "  %16 : int = aten::size(%x, %15) # <ipython-input-2-35c37cdc7bdc>:3:0\n",
       "  %W : Long(device=cpu) = prim::NumToTensor(%16)\n",
       "  %18 : Long(requires_grad=0, device=cpu) = aten::mul(%T, %H) # <ipython-input-2-35c37cdc7bdc>:4:0\n",
       "  %19 : Long(requires_grad=0, device=cpu) = aten::mul(%18, %W) # <ipython-input-2-35c37cdc7bdc>:4:0\n",
       "  %22 : int = aten::Int(%19)\n",
       "  %23 : int = prim::Constant[value=1]() # <ipython-input-2-35c37cdc7bdc>:4:0\n",
       "  %24 : int[] = prim::ListConstruct(%20, %23, %21, %22)\n",
       "  %25 : Float(2:1568, 1:1568, 4:392, 392:1, requires_grad=0, device=cpu) = aten::view(%x, %24) # <ipython-input-2-35c37cdc7bdc>:4:0\n",
       "  return (%25)"
      ]
     },
     "execution_count": 12,
     "metadata": {},
     "output_type": "execute_result"
    }
   ],
   "source": [
    "traced_model.graph"
   ]
  },
  {
   "cell_type": "code",
   "execution_count": 10,
   "metadata": {},
   "outputs": [
    {
     "data": {
      "text/plain": [
       "graph(%self : __torch__.___torch_mangle_5.Model,\n",
       "      %x : Float(2:1568, 4:392, 8:49, 7:7, 7:1, requires_grad=0, device=cpu)):\n",
       "  %36 : int[] = prim::Constant[value=[2, 1, 4, 392]]()\n",
       "  %24 : Float(2:1568, 1:1568, 4:392, 392:1, requires_grad=0, device=cpu) = aten::view(%x, %36) # <ipython-input-2-35c37cdc7bdc>:4:0\n",
       "  return (%24)"
      ]
     },
     "execution_count": 10,
     "metadata": {},
     "output_type": "execute_result"
    }
   ],
   "source": [
    "qmodel.graph"
   ]
  }
 ],
 "metadata": {
  "kernelspec": {
   "display_name": "Python 3",
   "language": "python",
   "name": "python3"
  },
  "language_info": {
   "codemirror_mode": {
    "name": "ipython",
    "version": 3
   },
   "file_extension": ".py",
   "mimetype": "text/x-python",
   "name": "python",
   "nbconvert_exporter": "python",
   "pygments_lexer": "ipython3",
   "version": "3.6.10"
  }
 },
 "nbformat": 4,
 "nbformat_minor": 4
}
